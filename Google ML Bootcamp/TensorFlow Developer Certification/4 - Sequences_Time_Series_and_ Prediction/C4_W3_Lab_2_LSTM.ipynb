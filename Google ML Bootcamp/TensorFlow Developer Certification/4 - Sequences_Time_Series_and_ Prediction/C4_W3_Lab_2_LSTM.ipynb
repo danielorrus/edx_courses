{
  "cells": [
    {
      "cell_type": "markdown",
      "metadata": {
        "id": "sJpBEaQBTE6B"
      },
      "source": [
        "<a href=\"https://colab.research.google.com/github/https-deeplearning-ai/tensorflow-1-public/blob/main/C4/W3/ungraded_labs/C4_W3_Lab_2_LSTM.ipynb\" target=\"_parent\"><img src=\"https://colab.research.google.com/assets/colab-badge.svg\" alt=\"Open In Colab\"/></a>"
      ]
    },
    {
      "cell_type": "markdown",
      "metadata": {
        "id": "sV_nvXSQGJPK"
      },
      "source": [
        "# Ungraded Lab: Using a multi-layer LSTM for forecasting\n",
        "\n",
        "In this lab, you will use the same RNN architecure in the first lab but will instead stack [LSTM](https://www.tensorflow.org/api_docs/python/tf/keras/layers/LSTM) layers instead of `SimpleRNN`."
      ]
    },
    {
      "cell_type": "code",
      "execution_count": 1,
      "metadata": {
        "id": "piNVRPcQTE6J",
        "colab": {
          "base_uri": "https://localhost:8080/"
        },
        "outputId": "11828c5e-28b1-467b-93a8-e982265edfff"
      },
      "outputs": [
        {
          "output_type": "stream",
          "name": "stdout",
          "text": [
            "Reading package lists... Done\n",
            "Building dependency tree       \n",
            "Reading state information... Done\n",
            "The following package was automatically installed and is no longer required:\n",
            "  libnvidia-common-460\n",
            "Use 'apt autoremove' to remove it.\n",
            "The following packages will be REMOVED:\n",
            "  libcudnn8-dev\n",
            "The following held packages will be changed:\n",
            "  libcudnn8\n",
            "The following packages will be upgraded:\n",
            "  libcudnn8\n",
            "1 upgraded, 0 newly installed, 1 to remove and 18 not upgraded.\n",
            "Need to get 420 MB of archives.\n",
            "After this operation, 3,369 MB disk space will be freed.\n",
            "Get:1 https://developer.download.nvidia.com/compute/cuda/repos/ubuntu1804/x86_64  libcudnn8 8.4.1.50-1+cuda11.6 [420 MB]\n",
            "Fetched 420 MB in 26s (16.2 MB/s)\n",
            "(Reading database ... 155676 files and directories currently installed.)\n",
            "Removing libcudnn8-dev (8.0.5.39-1+cuda11.1) ...\n",
            "(Reading database ... 155654 files and directories currently installed.)\n",
            "Preparing to unpack .../libcudnn8_8.4.1.50-1+cuda11.6_amd64.deb ...\n",
            "Unpacking libcudnn8 (8.4.1.50-1+cuda11.6) over (8.0.5.39-1+cuda11.1) ...\n",
            "Setting up libcudnn8 (8.4.1.50-1+cuda11.6) ...\n"
          ]
        }
      ],
      "source": [
        "# Install this package to use Colab's GPU for training\n",
        "!apt install --allow-change-held-packages libcudnn8=8.4.1.50-1+cuda11.6"
      ]
    },
    {
      "cell_type": "markdown",
      "metadata": {
        "id": "3IMbAWETGOWD"
      },
      "source": [
        "## Imports"
      ]
    },
    {
      "cell_type": "code",
      "execution_count": 2,
      "metadata": {
        "id": "BOjujz601HcS"
      },
      "outputs": [],
      "source": [
        "import tensorflow as tf\n",
        "import numpy as np\n",
        "import matplotlib.pyplot as plt"
      ]
    },
    {
      "cell_type": "markdown",
      "metadata": {
        "id": "kD7RQQ0xGQVH"
      },
      "source": [
        "## Utilities"
      ]
    },
    {
      "cell_type": "code",
      "execution_count": 3,
      "metadata": {
        "id": "Zswl7jRtGzkk"
      },
      "outputs": [],
      "source": [
        "def plot_series(time, series, format=\"-\", start=0, end=None):\n",
        "    \"\"\"\n",
        "    Visualizes time series data\n",
        "\n",
        "    Args:\n",
        "      time (array of int) - contains the time steps\n",
        "      series (array of int) - contains the measurements for each time step\n",
        "      format - line style when plotting the graph\n",
        "      start - first time step to plot\n",
        "      end - last time step to plot\n",
        "    \"\"\"\n",
        "\n",
        "    # Setup dimensions of the graph figure\n",
        "    plt.figure(figsize=(10, 6))\n",
        "    \n",
        "    if type(series) is tuple:\n",
        "\n",
        "      for series_num in series:\n",
        "        # Plot the time series data\n",
        "        plt.plot(time[start:end], series_num[start:end], format)\n",
        "\n",
        "    else:\n",
        "      # Plot the time series data\n",
        "      plt.plot(time[start:end], series[start:end], format)\n",
        "\n",
        "    # Label the x-axis\n",
        "    plt.xlabel(\"Time\")\n",
        "\n",
        "    # Label the y-axis\n",
        "    plt.ylabel(\"Value\")\n",
        "\n",
        "    # Overlay a grid on the graph\n",
        "    plt.grid(True)\n",
        "\n",
        "    # Draw the graph on screen\n",
        "    plt.show()\n",
        "\n",
        "def trend(time, slope=0):\n",
        "    \"\"\"\n",
        "    Generates synthetic data that follows a straight line given a slope value.\n",
        "\n",
        "    Args:\n",
        "      time (array of int) - contains the time steps\n",
        "      slope (float) - determines the direction and steepness of the line\n",
        "\n",
        "    Returns:\n",
        "      series (array of float) - measurements that follow a straight line\n",
        "    \"\"\"\n",
        "\n",
        "    # Compute the linear series given the slope\n",
        "    series = slope * time\n",
        "\n",
        "    return series\n",
        "\n",
        "def seasonal_pattern(season_time):\n",
        "    \"\"\"\n",
        "    Just an arbitrary pattern, you can change it if you wish\n",
        "    \n",
        "    Args:\n",
        "      season_time (array of float) - contains the measurements per time step\n",
        "\n",
        "    Returns:\n",
        "      data_pattern (array of float) -  contains revised measurement values according \n",
        "                                  to the defined pattern\n",
        "    \"\"\"\n",
        "\n",
        "    # Generate the values using an arbitrary pattern\n",
        "    data_pattern = np.where(season_time < 0.4,\n",
        "                    np.cos(season_time * 2 * np.pi),\n",
        "                    1 / np.exp(3 * season_time))\n",
        "    \n",
        "    return data_pattern\n",
        "\n",
        "def seasonality(time, period, amplitude=1, phase=0):\n",
        "    \"\"\"\n",
        "    Repeats the same pattern at each period\n",
        "\n",
        "    Args:\n",
        "      time (array of int) - contains the time steps\n",
        "      period (int) - number of time steps before the pattern repeats\n",
        "      amplitude (int) - peak measured value in a period\n",
        "      phase (int) - number of time steps to shift the measured values\n",
        "\n",
        "    Returns:\n",
        "      data_pattern (array of float) - seasonal data scaled by the defined amplitude\n",
        "    \"\"\"\n",
        "    \n",
        "    # Define the measured values per period\n",
        "    season_time = ((time + phase) % period) / period\n",
        "\n",
        "    # Generates the seasonal data scaled by the defined amplitude\n",
        "    data_pattern = amplitude * seasonal_pattern(season_time)\n",
        "\n",
        "    return data_pattern\n",
        "\n",
        "def noise(time, noise_level=1, seed=None):\n",
        "    \"\"\"Generates a normally distributed noisy signal\n",
        "\n",
        "    Args:\n",
        "      time (array of int) - contains the time steps\n",
        "      noise_level (float) - scaling factor for the generated signal\n",
        "      seed (int) - number generator seed for repeatability\n",
        "\n",
        "    Returns:\n",
        "      noise (array of float) - the noisy signal\n",
        "    \"\"\"\n",
        "\n",
        "    # Initialize the random number generator\n",
        "    rnd = np.random.RandomState(seed)\n",
        "\n",
        "    # Generate a random number for each time step and scale by the noise level\n",
        "    noise = rnd.randn(len(time)) * noise_level\n",
        "    \n",
        "    return noise"
      ]
    },
    {
      "cell_type": "markdown",
      "metadata": {
        "id": "yxNyeFWjGSdj"
      },
      "source": [
        "## Generate the Synthetic Data"
      ]
    },
    {
      "cell_type": "code",
      "execution_count": 4,
      "metadata": {
        "id": "KYEUfDbdpHPm",
        "colab": {
          "base_uri": "https://localhost:8080/",
          "height": 388
        },
        "outputId": "fc4e092b-8d80-426c-f619-3bef7bdb4624"
      },
      "outputs": [
        {
          "output_type": "display_data",
          "data": {
            "text/plain": [
              "<Figure size 720x432 with 1 Axes>"
            ],
            "image/png": "[encoded data removed]"
          },
          "metadata": {
            "needs_background": "light"
          }
        }
      ],
      "source": [
        "# Parameters\n",
        "time = np.arange(4 * 365 + 1, dtype=\"float32\")\n",
        "baseline = 10\n",
        "amplitude = 40\n",
        "slope = 0.05\n",
        "noise_level = 5\n",
        "\n",
        "# Create the series\n",
        "series = baseline + trend(time, slope) + seasonality(time, period=365, amplitude=amplitude)\n",
        "\n",
        "# Update with noise\n",
        "series += noise(time, noise_level, seed=42)\n",
        "\n",
        "# Plot the results\n",
        "plot_series(time, series)"
      ]
    },
    {
      "cell_type": "markdown",
      "metadata": {
        "id": "MYKCvv-eGWRc"
      },
      "source": [
        "## Split the Dataset"
      ]
    },
    {
      "cell_type": "code",
      "execution_count": 5,
      "metadata": {
        "id": "hpp0slenpKVD"
      },
      "outputs": [],
      "source": [
        "# Define the split time\n",
        "split_time = 1000\n",
        "\n",
        "# Get the train set \n",
        "time_train = time[:split_time]\n",
        "x_train = series[:split_time]\n",
        "\n",
        "# Get the validation set\n",
        "time_valid = time[split_time:]\n",
        "x_valid = series[split_time:]"
      ]
    },
    {
      "cell_type": "markdown",
      "metadata": {
        "id": "cktHz9aOGYtV"
      },
      "source": [
        "## Prepare Features and Labels"
      ]
    },
    {
      "cell_type": "code",
      "execution_count": 6,
      "metadata": {
        "id": "G_j_2_Mqwn7-"
      },
      "outputs": [],
      "source": [
        "# Parameters\n",
        "window_size = 20\n",
        "batch_size = 32\n",
        "shuffle_buffer_size = 1000"
      ]
    },
    {
      "cell_type": "code",
      "execution_count": 7,
      "metadata": {
        "id": "4sTTIOCbyShY"
      },
      "outputs": [],
      "source": [
        "def windowed_dataset(series, window_size, batch_size, shuffle_buffer):\n",
        "    \"\"\"Generates dataset windows\n",
        "\n",
        "    Args:\n",
        "      series (array of float) - contains the values of the time series\n",
        "      window_size (int) - the number of time steps to include in the feature\n",
        "      batch_size (int) - the batch size\n",
        "      shuffle_buffer(int) - buffer size to use for the shuffle method\n",
        "\n",
        "    Returns:\n",
        "      dataset (TF Dataset) - TF Dataset containing time windows\n",
        "    \"\"\"\n",
        "  \n",
        "    # Generate a TF Dataset from the series values\n",
        "    dataset = tf.data.Dataset.from_tensor_slices(series)\n",
        "    \n",
        "    # Window the data but only take those with the specified size\n",
        "    dataset = dataset.window(window_size + 1, shift=1, drop_remainder=True)\n",
        "    \n",
        "    # Flatten the windows by putting its elements in a single batch\n",
        "    dataset = dataset.flat_map(lambda window: window.batch(window_size + 1))\n",
        "\n",
        "    # Create tuples with features and labels \n",
        "    dataset = dataset.map(lambda window: (window[:-1], window[-1]))\n",
        "\n",
        "    # Shuffle the windows\n",
        "    dataset = dataset.shuffle(shuffle_buffer)\n",
        "    \n",
        "    # Create batches of windows\n",
        "    dataset = dataset.batch(batch_size).prefetch(1)\n",
        "    \n",
        "    return dataset"
      ]
    },
    {
      "cell_type": "code",
      "execution_count": 8,
      "metadata": {
        "id": "vGj5-InSwtQQ"
      },
      "outputs": [],
      "source": [
        "# Generate the dataset windows\n",
        "dataset = windowed_dataset(x_train, window_size, batch_size, shuffle_buffer_size)"
      ]
    },
    {
      "cell_type": "markdown",
      "metadata": {
        "id": "p9-Ke8ZaGcjd"
      },
      "source": [
        "## Build the Model\n",
        "\n",
        "As mentioned, you will swap `SimpleRNN` for `LSTM` in this lab. It is also set as bidirectional below but feel free to revise later and see what results you get. LSTMs are much more complex in their internal architecture than simpleRNNs. It implements a cell state that allows it to remember sequences better than simple implementations. This added complexity results in a bigger set of parameters to train and you'll see that when you print the model summary below."
      ]
    },
    {
      "cell_type": "code",
      "execution_count": 9,
      "metadata": {
        "id": "A1Hl39rklkLm",
        "colab": {
          "base_uri": "https://localhost:8080/"
        },
        "outputId": "a6140753-48c4-4951-ef39-f29a8c4224eb"
      },
      "outputs": [
        {
          "output_type": "stream",
          "name": "stdout",
          "text": [
            "Model: \"sequential\"\n",
            "_________________________________________________________________\n",
            " Layer (type)                Output Shape              Param #   \n",
            "=================================================================\n",
            " lambda (Lambda)             (None, 20, 1)             0         \n",
            "                                                                 \n",
            " bidirectional (Bidirectiona  (None, 20, 64)           8704      \n",
            " l)                                                              \n",
            "                                                                 \n",
            " bidirectional_1 (Bidirectio  (None, 64)               24832     \n",
            " nal)                                                            \n",
            "                                                                 \n",
            " dense (Dense)               (None, 1)                 65        \n",
            "                                                                 \n",
            " lambda_1 (Lambda)           (None, 1)                 0         \n",
            "                                                                 \n",
            "=================================================================\n",
            "Total params: 33,601\n",
            "Trainable params: 33,601\n",
            "Non-trainable params: 0\n",
            "_________________________________________________________________\n"
          ]
        }
      ],
      "source": [
        "# Build the Model\n",
        "model_tune = tf.keras.models.Sequential([\n",
        "  tf.keras.layers.Lambda(lambda x: tf.expand_dims(x, axis=-1),\n",
        "                      input_shape=[window_size]),\n",
        "    tf.keras.layers.Bidirectional(tf.keras.layers.LSTM(32, return_sequences=True)),\n",
        "  tf.keras.layers.Bidirectional(tf.keras.layers.LSTM(32)),\n",
        "  tf.keras.layers.Dense(1),\n",
        "  tf.keras.layers.Lambda(lambda x: x * 100.0)\n",
        "])\n",
        "\n",
        "# Print the model summary\n",
        "model_tune.summary()"
      ]
    },
    {
      "cell_type": "markdown",
      "metadata": {
        "id": "FHaFblbwq0GV"
      },
      "source": [
        "## Tune the Learning Rate\n",
        "\n",
        "As usual, you will pick a learning rate by running the tuning code below."
      ]
    },
    {
      "cell_type": "code",
      "execution_count": 10,
      "metadata": {
        "id": "qE7al18qw48G",
        "colab": {
          "base_uri": "https://localhost:8080/"
        },
        "outputId": "c44f8d00-83a3-4e0c-f593-d838c4132e02"
      },
      "outputs": [
        {
          "output_type": "stream",
          "name": "stdout",
          "text": [
            "Epoch 1/100\n",
            "31/31 [==============================] - 8s 18ms/step - loss: 33.2994 - lr: 1.0000e-08\n",
            "Epoch 2/100\n",
            "31/31 [==============================] - 0s 8ms/step - loss: 32.3712 - lr: 1.1220e-08\n",
            "Epoch 3/100\n",
            "31/31 [==============================] - 0s 8ms/step - loss: 31.2829 - lr: 1.2589e-08\n",
            "Epoch 4/100\n",
            "31/31 [==============================] - 0s 8ms/step - loss: 30.1169 - lr: 1.4125e-08\n",
            "Epoch 5/100\n",
            "31/31 [==============================] - 0s 8ms/step - loss: 28.8673 - lr: 1.5849e-08\n",
            "Epoch 6/100\n",
            "31/31 [==============================] - 0s 8ms/step - loss: 27.5417 - lr: 1.7783e-08\n",
            "Epoch 7/100\n",
            "31/31 [==============================] - 0s 8ms/step - loss: 26.1363 - lr: 1.9953e-08\n",
            "Epoch 8/100\n",
            "31/31 [==============================] - 0s 8ms/step - loss: 24.6754 - lr: 2.2387e-08\n",
            "Epoch 9/100\n",
            "31/31 [==============================] - 0s 8ms/step - loss: 23.1802 - lr: 2.5119e-08\n",
            "Epoch 10/100\n",
            "31/31 [==============================] - 0s 8ms/step - loss: 21.7364 - lr: 2.8184e-08\n",
            "Epoch 11/100\n",
            "31/31 [==============================] - 0s 8ms/step - loss: 20.3627 - lr: 3.1623e-08\n",
            "Epoch 12/100\n",
            "31/31 [==============================] - 0s 8ms/step - loss: 19.1063 - lr: 3.5481e-08\n",
            "Epoch 13/100\n",
            "31/31 [==============================] - 0s 8ms/step - loss: 18.0021 - lr: 3.9811e-08\n",
            "Epoch 14/100\n",
            "31/31 [==============================] - 0s 8ms/step - loss: 17.0310 - lr: 4.4668e-08\n",
            "Epoch 15/100\n",
            "31/31 [==============================] - 0s 8ms/step - loss: 16.1738 - lr: 5.0119e-08\n",
            "Epoch 16/100\n",
            "31/31 [==============================] - 0s 8ms/step - loss: 15.3798 - lr: 5.6234e-08\n",
            "Epoch 17/100\n",
            "31/31 [==============================] - 0s 8ms/step - loss: 14.6572 - lr: 6.3096e-08\n",
            "Epoch 18/100\n",
            "31/31 [==============================] - 0s 8ms/step - loss: 14.0048 - lr: 7.0795e-08\n",
            "Epoch 19/100\n",
            "31/31 [==============================] - 0s 8ms/step - loss: 13.4825 - lr: 7.9433e-08\n",
            "Epoch 20/100\n",
            "31/31 [==============================] - 0s 8ms/step - loss: 13.0223 - lr: 8.9125e-08\n",
            "Epoch 21/100\n",
            "31/31 [==============================] - 0s 8ms/step - loss: 12.6328 - lr: 1.0000e-07\n",
            "Epoch 22/100\n",
            "31/31 [==============================] - 0s 8ms/step - loss: 12.2780 - lr: 1.1220e-07\n",
            "Epoch 23/100\n",
            "31/31 [==============================] - 0s 8ms/step - loss: 11.9401 - lr: 1.2589e-07\n",
            "Epoch 24/100\n",
            "31/31 [==============================] - 0s 8ms/step - loss: 11.5877 - lr: 1.4125e-07\n",
            "Epoch 25/100\n",
            "31/31 [==============================] - 0s 8ms/step - loss: 11.2147 - lr: 1.5849e-07\n",
            "Epoch 26/100\n",
            "31/31 [==============================] - 0s 8ms/step - loss: 10.7990 - lr: 1.7783e-07\n",
            "Epoch 27/100\n",
            "31/31 [==============================] - 0s 8ms/step - loss: 10.3332 - lr: 1.9953e-07\n",
            "Epoch 28/100\n",
            "31/31 [==============================] - 0s 8ms/step - loss: 9.7596 - lr: 2.2387e-07\n",
            "Epoch 29/100\n",
            "31/31 [==============================] - 0s 8ms/step - loss: 9.1531 - lr: 2.5119e-07\n",
            "Epoch 30/100\n",
            "31/31 [==============================] - 0s 8ms/step - loss: 8.5358 - lr: 2.8184e-07\n",
            "Epoch 31/100\n",
            "31/31 [==============================] - 0s 9ms/step - loss: 7.9740 - lr: 3.1623e-07\n",
            "Epoch 32/100\n",
            "31/31 [==============================] - 0s 9ms/step - loss: 7.5109 - lr: 3.5481e-07\n",
            "Epoch 33/100\n",
            "31/31 [==============================] - 0s 9ms/step - loss: 7.0995 - lr: 3.9811e-07\n",
            "Epoch 34/100\n",
            "31/31 [==============================] - 0s 9ms/step - loss: 6.7988 - lr: 4.4668e-07\n",
            "Epoch 35/100\n",
            "31/31 [==============================] - 0s 8ms/step - loss: 6.5955 - lr: 5.0119e-07\n",
            "Epoch 36/100\n",
            "31/31 [==============================] - 0s 8ms/step - loss: 6.3697 - lr: 5.6234e-07\n",
            "Epoch 37/100\n",
            "31/31 [==============================] - 0s 9ms/step - loss: 6.2453 - lr: 6.3096e-07\n",
            "Epoch 38/100\n",
            "31/31 [==============================] - 0s 8ms/step - loss: 6.2059 - lr: 7.0795e-07\n",
            "Epoch 39/100\n",
            "31/31 [==============================] - 0s 8ms/step - loss: 6.1324 - lr: 7.9433e-07\n",
            "Epoch 40/100\n",
            "31/31 [==============================] - 0s 8ms/step - loss: 6.0231 - lr: 8.9125e-07\n",
            "Epoch 41/100\n",
            "31/31 [==============================] - 0s 8ms/step - loss: 6.0626 - lr: 1.0000e-06\n",
            "Epoch 42/100\n",
            "31/31 [==============================] - 0s 8ms/step - loss: 5.9663 - lr: 1.1220e-06\n",
            "Epoch 43/100\n",
            "31/31 [==============================] - 0s 8ms/step - loss: 5.9680 - lr: 1.2589e-06\n",
            "Epoch 44/100\n",
            "31/31 [==============================] - 0s 8ms/step - loss: 5.9671 - lr: 1.4125e-06\n",
            "Epoch 45/100\n",
            "31/31 [==============================] - 0s 8ms/step - loss: 5.8493 - lr: 1.5849e-06\n",
            "Epoch 46/100\n",
            "31/31 [==============================] - 0s 8ms/step - loss: 6.3136 - lr: 1.7783e-06\n",
            "Epoch 47/100\n",
            "31/31 [==============================] - 0s 8ms/step - loss: 5.9932 - lr: 1.9953e-06\n",
            "Epoch 48/100\n",
            "31/31 [==============================] - 0s 8ms/step - loss: 5.8064 - lr: 2.2387e-06\n",
            "Epoch 49/100\n",
            "31/31 [==============================] - 0s 8ms/step - loss: 6.1877 - lr: 2.5119e-06\n",
            "Epoch 50/100\n",
            "31/31 [==============================] - 0s 8ms/step - loss: 5.8597 - lr: 2.8184e-06\n",
            "Epoch 51/100\n",
            "31/31 [==============================] - 0s 8ms/step - loss: 5.5828 - lr: 3.1623e-06\n",
            "Epoch 52/100\n",
            "31/31 [==============================] - 0s 8ms/step - loss: 5.7922 - lr: 3.5481e-06\n",
            "Epoch 53/100\n",
            "31/31 [==============================] - 0s 8ms/step - loss: 5.7077 - lr: 3.9811e-06\n",
            "Epoch 54/100\n",
            "31/31 [==============================] - 0s 9ms/step - loss: 5.5089 - lr: 4.4668e-06\n",
            "Epoch 55/100\n",
            "31/31 [==============================] - 0s 8ms/step - loss: 5.4335 - lr: 5.0119e-06\n",
            "Epoch 56/100\n",
            "31/31 [==============================] - 0s 8ms/step - loss: 6.0211 - lr: 5.6234e-06\n",
            "Epoch 57/100\n",
            "31/31 [==============================] - 0s 8ms/step - loss: 5.7421 - lr: 6.3096e-06\n",
            "Epoch 58/100\n",
            "31/31 [==============================] - 0s 8ms/step - loss: 5.6678 - lr: 7.0795e-06\n",
            "Epoch 59/100\n",
            "31/31 [==============================] - 0s 8ms/step - loss: 5.4015 - lr: 7.9433e-06\n",
            "Epoch 60/100\n",
            "31/31 [==============================] - 0s 8ms/step - loss: 5.1269 - lr: 8.9125e-06\n",
            "Epoch 61/100\n",
            "31/31 [==============================] - 0s 8ms/step - loss: 5.0527 - lr: 1.0000e-05\n",
            "Epoch 62/100\n",
            "31/31 [==============================] - 0s 8ms/step - loss: 5.2749 - lr: 1.1220e-05\n",
            "Epoch 63/100\n",
            "31/31 [==============================] - 0s 9ms/step - loss: 4.9585 - lr: 1.2589e-05\n",
            "Epoch 64/100\n",
            "31/31 [==============================] - 0s 8ms/step - loss: 5.1212 - lr: 1.4125e-05\n",
            "Epoch 65/100\n",
            "31/31 [==============================] - 0s 9ms/step - loss: 5.0144 - lr: 1.5849e-05\n",
            "Epoch 66/100\n",
            "31/31 [==============================] - 0s 8ms/step - loss: 4.7638 - lr: 1.7783e-05\n",
            "Epoch 67/100\n",
            "31/31 [==============================] - 0s 9ms/step - loss: 4.8541 - lr: 1.9953e-05\n",
            "Epoch 68/100\n",
            "31/31 [==============================] - 0s 8ms/step - loss: 4.7171 - lr: 2.2387e-05\n",
            "Epoch 69/100\n",
            "31/31 [==============================] - 0s 8ms/step - loss: 6.1983 - lr: 2.5119e-05\n",
            "Epoch 70/100\n",
            "31/31 [==============================] - 0s 8ms/step - loss: 5.7864 - lr: 2.8184e-05\n",
            "Epoch 71/100\n",
            "31/31 [==============================] - 0s 8ms/step - loss: 5.0674 - lr: 3.1623e-05\n",
            "Epoch 72/100\n",
            "31/31 [==============================] - 0s 8ms/step - loss: 7.4605 - lr: 3.5481e-05\n",
            "Epoch 73/100\n",
            "31/31 [==============================] - 0s 8ms/step - loss: 5.8984 - lr: 3.9811e-05\n",
            "Epoch 74/100\n",
            "31/31 [==============================] - 0s 8ms/step - loss: 7.0114 - lr: 4.4668e-05\n",
            "Epoch 75/100\n",
            "31/31 [==============================] - 0s 8ms/step - loss: 5.3378 - lr: 5.0119e-05\n",
            "Epoch 76/100\n",
            "31/31 [==============================] - 0s 8ms/step - loss: 5.4380 - lr: 5.6234e-05\n",
            "Epoch 77/100\n",
            "31/31 [==============================] - 0s 8ms/step - loss: 5.4509 - lr: 6.3096e-05\n",
            "Epoch 78/100\n",
            "31/31 [==============================] - 0s 9ms/step - loss: 5.5445 - lr: 7.0795e-05\n",
            "Epoch 79/100\n",
            "31/31 [==============================] - 0s 8ms/step - loss: 6.0399 - lr: 7.9433e-05\n",
            "Epoch 80/100\n",
            "31/31 [==============================] - 0s 9ms/step - loss: 6.4833 - lr: 8.9125e-05\n",
            "Epoch 81/100\n",
            "31/31 [==============================] - 0s 9ms/step - loss: 5.9942 - lr: 1.0000e-04\n",
            "Epoch 82/100\n",
            "31/31 [==============================] - 0s 8ms/step - loss: 6.7024 - lr: 1.1220e-04\n",
            "Epoch 83/100\n",
            "31/31 [==============================] - 0s 8ms/step - loss: 6.8356 - lr: 1.2589e-04\n",
            "Epoch 84/100\n",
            "31/31 [==============================] - 0s 8ms/step - loss: 9.6197 - lr: 1.4125e-04\n",
            "Epoch 85/100\n",
            "31/31 [==============================] - 0s 8ms/step - loss: 5.9791 - lr: 1.5849e-04\n",
            "Epoch 86/100\n",
            "31/31 [==============================] - 0s 9ms/step - loss: 6.9497 - lr: 1.7783e-04\n",
            "Epoch 87/100\n",
            "31/31 [==============================] - 0s 9ms/step - loss: 6.4740 - lr: 1.9953e-04\n",
            "Epoch 88/100\n",
            "31/31 [==============================] - 0s 8ms/step - loss: 7.8651 - lr: 2.2387e-04\n",
            "Epoch 89/100\n",
            "31/31 [==============================] - 0s 8ms/step - loss: 7.8307 - lr: 2.5119e-04\n",
            "Epoch 90/100\n",
            "31/31 [==============================] - 0s 8ms/step - loss: 8.8045 - lr: 2.8184e-04\n",
            "Epoch 91/100\n",
            "31/31 [==============================] - 0s 9ms/step - loss: 7.9393 - lr: 3.1623e-04\n",
            "Epoch 92/100\n",
            "31/31 [==============================] - 0s 8ms/step - loss: 6.5745 - lr: 3.5481e-04\n",
            "Epoch 93/100\n",
            "31/31 [==============================] - 0s 8ms/step - loss: 10.7293 - lr: 3.9811e-04\n",
            "Epoch 94/100\n",
            "31/31 [==============================] - 0s 8ms/step - loss: 9.3952 - lr: 4.4668e-04\n",
            "Epoch 95/100\n",
            "31/31 [==============================] - 0s 8ms/step - loss: 9.1147 - lr: 5.0119e-04\n",
            "Epoch 96/100\n",
            "31/31 [==============================] - 0s 8ms/step - loss: 8.2475 - lr: 5.6234e-04\n",
            "Epoch 97/100\n",
            "31/31 [==============================] - 0s 8ms/step - loss: 14.1091 - lr: 6.3096e-04\n",
            "Epoch 98/100\n",
            "31/31 [==============================] - 0s 8ms/step - loss: 11.8162 - lr: 7.0795e-04\n",
            "Epoch 99/100\n",
            "31/31 [==============================] - 0s 8ms/step - loss: 11.3166 - lr: 7.9433e-04\n",
            "Epoch 100/100\n",
            "31/31 [==============================] - 0s 8ms/step - loss: 13.5435 - lr: 8.9125e-04\n"
          ]
        }
      ],
      "source": [
        "# Set the learning rate scheduler\n",
        "lr_schedule = tf.keras.callbacks.LearningRateScheduler(\n",
        "    lambda epoch: 1e-8 * 10**(epoch / 20))\n",
        "\n",
        "# Initialize the optimizer\n",
        "optimizer = tf.keras.optimizers.SGD(momentum=0.9)\n",
        "\n",
        "# Set the training parameters\n",
        "model_tune.compile(loss=tf.keras.losses.Huber(), optimizer=optimizer)\n",
        "\n",
        "# Train the model\n",
        "history = model_tune.fit(dataset, epochs=100, callbacks=[lr_schedule])"
      ]
    },
    {
      "cell_type": "code",
      "execution_count": 11,
      "metadata": {
        "id": "AkBsrsXMzoWR",
        "colab": {
          "base_uri": "https://localhost:8080/",
          "height": 406
        },
        "outputId": "c55f491e-2446-4e67-cb1f-eaee781da7c8"
      },
      "outputs": [
        {
          "output_type": "execute_result",
          "data": {
            "text/plain": [
              "(1e-08, 0.001, 0.0, 30.0)"
            ]
          },
          "metadata": {},
          "execution_count": 11
        },
        {
          "output_type": "display_data",
          "data": {
            "text/plain": [
              "<Figure size 720x432 with 1 Axes>"
            ],
            "image/png": "[encoded data removed]"
          },
          "metadata": {
            "needs_background": "light"
          }
        }
      ],
      "source": [
        "# Define the learning rate array\n",
        "lrs = 1e-8 * (10 ** (np.arange(100) / 20))\n",
        "\n",
        "# Set the figure size\n",
        "plt.figure(figsize=(10, 6))\n",
        "\n",
        "# Set the grid\n",
        "plt.grid(True)\n",
        "\n",
        "# Plot the loss in log scale\n",
        "plt.semilogx(lrs, history.history[\"loss\"])\n",
        "\n",
        "# Increase the tickmarks size\n",
        "plt.tick_params('both', length=10, width=1, which='both')\n",
        "\n",
        "# Set the plot boundaries\n",
        "plt.axis([1e-8, 1e-3, 0, 30])"
      ]
    },
    {
      "cell_type": "markdown",
      "metadata": {
        "id": "i-lKNp4pq_w8"
      },
      "source": [
        "## Train the Model\n",
        "\n",
        "You can then proceed to train the model with your chosen learning rate. \n",
        "\n",
        "*Tip: When experimenting and you find yourself running different iterations of a model, you may want to use the [`clear_session()`](https://www.tensorflow.org/api_docs/python/tf/keras/backend/clear_session) method to declutter memory used by Keras. This is added in the first line below.*\n"
      ]
    },
    {
      "cell_type": "code",
      "execution_count": 12,
      "metadata": {
        "id": "4uh-97bpLZCA",
        "colab": {
          "base_uri": "https://localhost:8080/"
        },
        "outputId": "ede2f2d5-be93-45f4-e970-6f7d4ecac243"
      },
      "outputs": [
        {
          "output_type": "stream",
          "name": "stdout",
          "text": [
            "Epoch 1/100\n",
            "31/31 [==============================] - 6s 9ms/step - loss: 16.0588 - mae: 16.5545\n",
            "Epoch 2/100\n",
            "31/31 [==============================] - 0s 8ms/step - loss: 10.1801 - mae: 10.6679\n",
            "Epoch 3/100\n",
            "31/31 [==============================] - 0s 9ms/step - loss: 8.6310 - mae: 9.1144\n",
            "Epoch 4/100\n",
            "31/31 [==============================] - 0s 8ms/step - loss: 7.7118 - mae: 8.1936\n",
            "Epoch 5/100\n",
            "31/31 [==============================] - 0s 9ms/step - loss: 7.0853 - mae: 7.5650\n",
            "Epoch 6/100\n",
            "31/31 [==============================] - 0s 8ms/step - loss: 6.7538 - mae: 7.2374\n",
            "Epoch 7/100\n",
            "31/31 [==============================] - 0s 8ms/step - loss: 6.4994 - mae: 6.9767\n",
            "Epoch 8/100\n",
            "31/31 [==============================] - 0s 9ms/step - loss: 6.3296 - mae: 6.8064\n",
            "Epoch 9/100\n",
            "31/31 [==============================] - 0s 8ms/step - loss: 6.1818 - mae: 6.6621\n",
            "Epoch 10/100\n",
            "31/31 [==============================] - 0s 8ms/step - loss: 6.0893 - mae: 6.5736\n",
            "Epoch 11/100\n",
            "31/31 [==============================] - 0s 8ms/step - loss: 6.0398 - mae: 6.5190\n",
            "Epoch 12/100\n",
            "31/31 [==============================] - 0s 9ms/step - loss: 5.8691 - mae: 6.3480\n",
            "Epoch 13/100\n",
            "31/31 [==============================] - 0s 9ms/step - loss: 5.8263 - mae: 6.3045\n",
            "Epoch 14/100\n",
            "31/31 [==============================] - 0s 8ms/step - loss: 5.7314 - mae: 6.2097\n",
            "Epoch 15/100\n",
            "31/31 [==============================] - 0s 8ms/step - loss: 5.7743 - mae: 6.2550\n",
            "Epoch 16/100\n",
            "31/31 [==============================] - 0s 9ms/step - loss: 5.6482 - mae: 6.1281\n",
            "Epoch 17/100\n",
            "31/31 [==============================] - 0s 8ms/step - loss: 5.5967 - mae: 6.0774\n",
            "Epoch 18/100\n",
            "31/31 [==============================] - 0s 8ms/step - loss: 5.5163 - mae: 5.9929\n",
            "Epoch 19/100\n",
            "31/31 [==============================] - 0s 8ms/step - loss: 5.5818 - mae: 6.0635\n",
            "Epoch 20/100\n",
            "31/31 [==============================] - 0s 8ms/step - loss: 5.5217 - mae: 6.0005\n",
            "Epoch 21/100\n",
            "31/31 [==============================] - 0s 8ms/step - loss: 5.4325 - mae: 5.9129\n",
            "Epoch 22/100\n",
            "31/31 [==============================] - 0s 9ms/step - loss: 5.3943 - mae: 5.8727\n",
            "Epoch 23/100\n",
            "31/31 [==============================] - 0s 8ms/step - loss: 5.3774 - mae: 5.8547\n",
            "Epoch 24/100\n",
            "31/31 [==============================] - 0s 8ms/step - loss: 5.3533 - mae: 5.8310\n",
            "Epoch 25/100\n",
            "31/31 [==============================] - 0s 9ms/step - loss: 5.3207 - mae: 5.7983\n",
            "Epoch 26/100\n",
            "31/31 [==============================] - 0s 9ms/step - loss: 5.2743 - mae: 5.7508\n",
            "Epoch 27/100\n",
            "31/31 [==============================] - 0s 9ms/step - loss: 5.2636 - mae: 5.7398\n",
            "Epoch 28/100\n",
            "31/31 [==============================] - 0s 8ms/step - loss: 5.2810 - mae: 5.7564\n",
            "Epoch 29/100\n",
            "31/31 [==============================] - 0s 9ms/step - loss: 5.1997 - mae: 5.6785\n",
            "Epoch 30/100\n",
            "31/31 [==============================] - 0s 9ms/step - loss: 5.1878 - mae: 5.6612\n",
            "Epoch 31/100\n",
            "31/31 [==============================] - 0s 9ms/step - loss: 5.1701 - mae: 5.6443\n",
            "Epoch 32/100\n",
            "31/31 [==============================] - 0s 9ms/step - loss: 5.1932 - mae: 5.6672\n",
            "Epoch 33/100\n",
            "31/31 [==============================] - 0s 9ms/step - loss: 5.1597 - mae: 5.6348\n",
            "Epoch 34/100\n",
            "31/31 [==============================] - 0s 8ms/step - loss: 5.1115 - mae: 5.5871\n",
            "Epoch 35/100\n",
            "31/31 [==============================] - 0s 8ms/step - loss: 5.1174 - mae: 5.5922\n",
            "Epoch 36/100\n",
            "31/31 [==============================] - 0s 9ms/step - loss: 5.0915 - mae: 5.5676\n",
            "Epoch 37/100\n",
            "31/31 [==============================] - 0s 9ms/step - loss: 5.0780 - mae: 5.5531\n",
            "Epoch 38/100\n",
            "31/31 [==============================] - 0s 8ms/step - loss: 5.0707 - mae: 5.5463\n",
            "Epoch 39/100\n",
            "31/31 [==============================] - 0s 9ms/step - loss: 5.0534 - mae: 5.5261\n",
            "Epoch 40/100\n",
            "31/31 [==============================] - 0s 9ms/step - loss: 5.0188 - mae: 5.4959\n",
            "Epoch 41/100\n",
            "31/31 [==============================] - 0s 9ms/step - loss: 5.0552 - mae: 5.5314\n",
            "Epoch 42/100\n",
            "31/31 [==============================] - 0s 9ms/step - loss: 4.9923 - mae: 5.4659\n",
            "Epoch 43/100\n",
            "31/31 [==============================] - 0s 9ms/step - loss: 4.9936 - mae: 5.4703\n",
            "Epoch 44/100\n",
            "31/31 [==============================] - 0s 9ms/step - loss: 4.9855 - mae: 5.4607\n",
            "Epoch 45/100\n",
            "31/31 [==============================] - 0s 9ms/step - loss: 4.9677 - mae: 5.4443\n",
            "Epoch 46/100\n",
            "31/31 [==============================] - 0s 9ms/step - loss: 5.0893 - mae: 5.5661\n",
            "Epoch 47/100\n",
            "31/31 [==============================] - 0s 9ms/step - loss: 4.9362 - mae: 5.4118\n",
            "Epoch 48/100\n",
            "31/31 [==============================] - 0s 9ms/step - loss: 4.9485 - mae: 5.4259\n",
            "Epoch 49/100\n",
            "31/31 [==============================] - 0s 9ms/step - loss: 4.9043 - mae: 5.3801\n",
            "Epoch 50/100\n",
            "31/31 [==============================] - 0s 9ms/step - loss: 4.9487 - mae: 5.4232\n",
            "Epoch 51/100\n",
            "31/31 [==============================] - 0s 9ms/step - loss: 4.9502 - mae: 5.4259\n",
            "Epoch 52/100\n",
            "31/31 [==============================] - 0s 10ms/step - loss: 4.9701 - mae: 5.4433\n",
            "Epoch 53/100\n",
            "31/31 [==============================] - 0s 9ms/step - loss: 4.8758 - mae: 5.3507\n",
            "Epoch 54/100\n",
            "31/31 [==============================] - 0s 9ms/step - loss: 4.9242 - mae: 5.4020\n",
            "Epoch 55/100\n",
            "31/31 [==============================] - 0s 9ms/step - loss: 4.8476 - mae: 5.3235\n",
            "Epoch 56/100\n",
            "31/31 [==============================] - 0s 8ms/step - loss: 4.8169 - mae: 5.2929\n",
            "Epoch 57/100\n",
            "31/31 [==============================] - 0s 8ms/step - loss: 4.8082 - mae: 5.2881\n",
            "Epoch 58/100\n",
            "31/31 [==============================] - 0s 9ms/step - loss: 5.0272 - mae: 5.5036\n",
            "Epoch 59/100\n",
            "31/31 [==============================] - 0s 9ms/step - loss: 4.8254 - mae: 5.3000\n",
            "Epoch 60/100\n",
            "31/31 [==============================] - 0s 9ms/step - loss: 4.8044 - mae: 5.2803\n",
            "Epoch 61/100\n",
            "31/31 [==============================] - 0s 9ms/step - loss: 4.7878 - mae: 5.2674\n",
            "Epoch 62/100\n",
            "31/31 [==============================] - 0s 9ms/step - loss: 4.8309 - mae: 5.3108\n",
            "Epoch 63/100\n",
            "31/31 [==============================] - 0s 9ms/step - loss: 4.7790 - mae: 5.2564\n",
            "Epoch 64/100\n",
            "31/31 [==============================] - 0s 9ms/step - loss: 4.8553 - mae: 5.3340\n",
            "Epoch 65/100\n",
            "31/31 [==============================] - 0s 9ms/step - loss: 4.8377 - mae: 5.3123\n",
            "Epoch 66/100\n",
            "31/31 [==============================] - 0s 9ms/step - loss: 4.7646 - mae: 5.2424\n",
            "Epoch 67/100\n",
            "31/31 [==============================] - 0s 9ms/step - loss: 4.7766 - mae: 5.2497\n",
            "Epoch 68/100\n",
            "31/31 [==============================] - 0s 9ms/step - loss: 4.7729 - mae: 5.2481\n",
            "Epoch 69/100\n",
            "31/31 [==============================] - 0s 8ms/step - loss: 4.7740 - mae: 5.2495\n",
            "Epoch 70/100\n",
            "31/31 [==============================] - 0s 9ms/step - loss: 4.7414 - mae: 5.2200\n",
            "Epoch 71/100\n",
            "31/31 [==============================] - 0s 8ms/step - loss: 4.8470 - mae: 5.3234\n",
            "Epoch 72/100\n",
            "31/31 [==============================] - 0s 9ms/step - loss: 4.7925 - mae: 5.2698\n",
            "Epoch 73/100\n",
            "31/31 [==============================] - 0s 9ms/step - loss: 4.7864 - mae: 5.2650\n",
            "Epoch 74/100\n",
            "31/31 [==============================] - 0s 8ms/step - loss: 4.7125 - mae: 5.1894\n",
            "Epoch 75/100\n",
            "31/31 [==============================] - 0s 9ms/step - loss: 4.7554 - mae: 5.2351\n",
            "Epoch 76/100\n",
            "31/31 [==============================] - 0s 9ms/step - loss: 4.7254 - mae: 5.2020\n",
            "Epoch 77/100\n",
            "31/31 [==============================] - 0s 9ms/step - loss: 4.6907 - mae: 5.1670\n",
            "Epoch 78/100\n",
            "31/31 [==============================] - 0s 9ms/step - loss: 4.6877 - mae: 5.1622\n",
            "Epoch 79/100\n",
            "31/31 [==============================] - 0s 9ms/step - loss: 4.7378 - mae: 5.2139\n",
            "Epoch 80/100\n",
            "31/31 [==============================] - 0s 9ms/step - loss: 4.6758 - mae: 5.1487\n",
            "Epoch 81/100\n",
            "31/31 [==============================] - 0s 9ms/step - loss: 4.6503 - mae: 5.1261\n",
            "Epoch 82/100\n",
            "31/31 [==============================] - 0s 8ms/step - loss: 4.6843 - mae: 5.1620\n",
            "Epoch 83/100\n",
            "31/31 [==============================] - 0s 9ms/step - loss: 4.6869 - mae: 5.1657\n",
            "Epoch 84/100\n",
            "31/31 [==============================] - 0s 9ms/step - loss: 4.6970 - mae: 5.1709\n",
            "Epoch 85/100\n",
            "31/31 [==============================] - 0s 9ms/step - loss: 4.6833 - mae: 5.1628\n",
            "Epoch 86/100\n",
            "31/31 [==============================] - 0s 8ms/step - loss: 4.6464 - mae: 5.1224\n",
            "Epoch 87/100\n",
            "31/31 [==============================] - 0s 9ms/step - loss: 4.6337 - mae: 5.1060\n",
            "Epoch 88/100\n",
            "31/31 [==============================] - 0s 8ms/step - loss: 4.6194 - mae: 5.0983\n",
            "Epoch 89/100\n",
            "31/31 [==============================] - 0s 8ms/step - loss: 4.7153 - mae: 5.1968\n",
            "Epoch 90/100\n",
            "31/31 [==============================] - 0s 9ms/step - loss: 4.6844 - mae: 5.1630\n",
            "Epoch 91/100\n",
            "31/31 [==============================] - 0s 8ms/step - loss: 4.6957 - mae: 5.1708\n",
            "Epoch 92/100\n",
            "31/31 [==============================] - 0s 9ms/step - loss: 4.6137 - mae: 5.0907\n",
            "Epoch 93/100\n",
            "31/31 [==============================] - 0s 8ms/step - loss: 4.6233 - mae: 5.1008\n",
            "Epoch 94/100\n",
            "31/31 [==============================] - 0s 8ms/step - loss: 4.5978 - mae: 5.0723\n",
            "Epoch 95/100\n",
            "31/31 [==============================] - 0s 8ms/step - loss: 4.6179 - mae: 5.0960\n",
            "Epoch 96/100\n",
            "31/31 [==============================] - 0s 8ms/step - loss: 4.6492 - mae: 5.1258\n",
            "Epoch 97/100\n",
            "31/31 [==============================] - 0s 8ms/step - loss: 4.5879 - mae: 5.0653\n",
            "Epoch 98/100\n",
            "31/31 [==============================] - 0s 9ms/step - loss: 4.6169 - mae: 5.0917\n",
            "Epoch 99/100\n",
            "31/31 [==============================] - 0s 8ms/step - loss: 4.5978 - mae: 5.0745\n",
            "Epoch 100/100\n",
            "31/31 [==============================] - 0s 9ms/step - loss: 4.6790 - mae: 5.1579\n"
          ]
        }
      ],
      "source": [
        "# Reset states generated by Keras\n",
        "tf.keras.backend.clear_session()\n",
        "\n",
        "# Build the model\n",
        "model = tf.keras.models.Sequential([\n",
        "  tf.keras.layers.Lambda(lambda x: tf.expand_dims(x, axis=-1),\n",
        "                      input_shape=[None]),\n",
        "   tf.keras.layers.Bidirectional(tf.keras.layers.LSTM(32, return_sequences=True)),\n",
        "  tf.keras.layers.Bidirectional(tf.keras.layers.LSTM(32)),\n",
        "  tf.keras.layers.Dense(1),\n",
        "  tf.keras.layers.Lambda(lambda x: x * 100.0)\n",
        "])\n",
        "\n",
        "# Set the learning rate\n",
        "learning_rate = 2e-6\n",
        "\n",
        "# Set the optimizer \n",
        "optimizer = tf.keras.optimizers.SGD(learning_rate=learning_rate, momentum=0.9)\n",
        "\n",
        "# Set the training parameters\n",
        "model.compile(loss=tf.keras.losses.Huber(),\n",
        "              optimizer=optimizer,\n",
        "              metrics=[\"mae\"])\n",
        "\n",
        "# Train the model\n",
        "history = model.fit(dataset,epochs=100)"
      ]
    },
    {
      "cell_type": "markdown",
      "metadata": {
        "id": "RjP4kbGiI7cw"
      },
      "source": [
        "## Model Prediction\n",
        "\n",
        "You will then generate batches of windows to generate predictions that align with the validation set."
      ]
    },
    {
      "cell_type": "code",
      "execution_count": 13,
      "metadata": {
        "id": "QO8cfKwKBBG6"
      },
      "outputs": [],
      "source": [
        "def model_forecast(model, series, window_size, batch_size):\n",
        "    \"\"\"Uses an input model to generate predictions on data windows\n",
        "\n",
        "    Args:\n",
        "      model (TF Keras Model) - model that accepts data windows\n",
        "      series (array of float) - contains the values of the time series\n",
        "      window_size (int) - the number of time steps to include in the window\n",
        "      batch_size (int) - the batch size\n",
        "\n",
        "    Returns:\n",
        "      forecast (numpy array) - array containing predictions\n",
        "    \"\"\"\n",
        "\n",
        "    # Generate a TF Dataset from the series values\n",
        "    dataset = tf.data.Dataset.from_tensor_slices(series)\n",
        "\n",
        "    # Window the data but only take those with the specified size\n",
        "    dataset = dataset.window(window_size, shift=1, drop_remainder=True)\n",
        "\n",
        "    # Flatten the windows by putting its elements in a single batch\n",
        "    dataset = dataset.flat_map(lambda w: w.batch(window_size))\n",
        "    \n",
        "    # Create batches of windows\n",
        "    dataset = dataset.batch(batch_size).prefetch(1)\n",
        "    \n",
        "    # Get predictions on the entire dataset\n",
        "    forecast = model.predict(dataset)\n",
        "    \n",
        "    return forecast"
      ]
    },
    {
      "cell_type": "code",
      "execution_count": 14,
      "metadata": {
        "id": "_plB3UseBD8o",
        "colab": {
          "base_uri": "https://localhost:8080/",
          "height": 406
        },
        "outputId": "376ab5e6-4b13-457e-b8f5-ac1819a90ed9"
      },
      "outputs": [
        {
          "output_type": "stream",
          "name": "stdout",
          "text": [
            "15/15 [==============================] - 1s 8ms/step\n"
          ]
        },
        {
          "output_type": "display_data",
          "data": {
            "text/plain": [
              "<Figure size 720x432 with 1 Axes>"
            ],
            "image/png": "[encoded data removed]"
          },
          "metadata": {
            "needs_background": "light"
          }
        }
      ],
      "source": [
        "# Reduce the original series\n",
        "forecast_series = series[split_time-window_size:-1]\n",
        "\n",
        "# Use helper function to generate predictions\n",
        "forecast = model_forecast(model, forecast_series, window_size, batch_size)\n",
        "\n",
        "# Drop single dimensional axis\n",
        "results = forecast.squeeze()\n",
        "\n",
        "# Plot the results\n",
        "plot_series(time_valid, (x_valid, results))"
      ]
    },
    {
      "cell_type": "markdown",
      "metadata": {
        "id": "Nn8iSQkZtaRC"
      },
      "source": [
        "You can then generate the metrics to evaluate the model's performance."
      ]
    },
    {
      "cell_type": "code",
      "execution_count": 15,
      "metadata": {
        "id": "-IKhueZaBGID",
        "colab": {
          "base_uri": "https://localhost:8080/"
        },
        "outputId": "c428e93f-ab50-4c88-9374-38c5e231fd66"
      },
      "outputs": [
        {
          "output_type": "stream",
          "name": "stdout",
          "text": [
            "68.80701\n",
            "5.85849\n"
          ]
        }
      ],
      "source": [
        "# Compute the MSE and MAE\n",
        "print(tf.keras.metrics.mean_squared_error(x_valid, results).numpy())\n",
        "print(tf.keras.metrics.mean_absolute_error(x_valid, results).numpy())"
      ]
    },
    {
      "cell_type": "markdown",
      "metadata": {
        "id": "bzPIqeMWvbPy"
      },
      "source": [
        "## Wrap Up\n",
        "\n",
        "This concludes this short exercise on using LSTMs for time series forecasting. Next week, you will build upon this and add convolutions. Then, you will start to move away from synthetic data and use real-world datasets. See you there!"
      ]
    },
    {
      "cell_type": "markdown",
      "metadata": {
        "id": "U5PqTePGHeMH"
      },
      "source": [
        "## Optional: Including a Validation Set while Training\n",
        "\n",
        "Back in the first course of this specialization, you saw how you can also monitor the performance of your model against a validation set while training. You can also do that for this lab. \n",
        "\n",
        "First, you need to generate a `val_set` which are data windows and labels that your model can accept. You can simply reuse the `windowed_dataset` function for that and you can pass in the `x_valid` points to generate the windows."
      ]
    },
    {
      "cell_type": "code",
      "execution_count": 16,
      "metadata": {
        "id": "kvFVwL3PC4iX"
      },
      "outputs": [],
      "source": [
        "# Generate data windows of the validation set\n",
        "val_set = windowed_dataset(x_valid, window_size, batch_size, shuffle_buffer_size)"
      ]
    },
    {
      "cell_type": "markdown",
      "metadata": {
        "id": "p68j6XxEvP9K"
      },
      "source": [
        "You can then do the same training as before but pass in the `val_set` to the `validation_data` parameter of the `fit()` method."
      ]
    },
    {
      "cell_type": "code",
      "execution_count": 17,
      "metadata": {
        "id": "wujKz6tXDSn0",
        "colab": {
          "base_uri": "https://localhost:8080/"
        },
        "outputId": "ab9896f2-fdfc-4faf-9d6b-8d978f5b8813"
      },
      "outputs": [
        {
          "output_type": "stream",
          "name": "stdout",
          "text": [
            "Epoch 1/100\n",
            "31/31 [==============================] - 7s 56ms/step - loss: 18.1787 - mae: 18.6736 - val_loss: 33.3326 - val_mae: 33.8317\n",
            "Epoch 2/100\n",
            "31/31 [==============================] - 0s 12ms/step - loss: 14.2006 - mae: 14.6921 - val_loss: 29.9979 - val_mae: 30.4974\n",
            "Epoch 3/100\n",
            "31/31 [==============================] - 0s 11ms/step - loss: 10.6598 - mae: 11.1481 - val_loss: 21.9483 - val_mae: 22.4465\n",
            "Epoch 4/100\n",
            "31/31 [==============================] - 0s 12ms/step - loss: 8.3075 - mae: 8.7910 - val_loss: 17.4745 - val_mae: 17.9698\n",
            "Epoch 5/100\n",
            "31/31 [==============================] - 0s 12ms/step - loss: 7.4066 - mae: 7.8903 - val_loss: 14.2565 - val_mae: 14.7530\n",
            "Epoch 6/100\n",
            "31/31 [==============================] - 0s 12ms/step - loss: 7.2716 - mae: 7.7538 - val_loss: 13.2671 - val_mae: 13.7551\n",
            "Epoch 7/100\n",
            "31/31 [==============================] - 0s 12ms/step - loss: 6.9203 - mae: 7.4039 - val_loss: 13.0813 - val_mae: 13.5697\n",
            "Epoch 8/100\n",
            "31/31 [==============================] - 0s 12ms/step - loss: 6.7613 - mae: 7.2451 - val_loss: 11.8213 - val_mae: 12.3154\n",
            "Epoch 9/100\n",
            "31/31 [==============================] - 0s 12ms/step - loss: 6.6565 - mae: 7.1412 - val_loss: 12.3854 - val_mae: 12.8763\n",
            "Epoch 10/100\n",
            "31/31 [==============================] - 0s 12ms/step - loss: 6.6322 - mae: 7.1146 - val_loss: 13.4281 - val_mae: 13.9233\n",
            "Epoch 11/100\n",
            "31/31 [==============================] - 0s 12ms/step - loss: 6.6187 - mae: 7.0999 - val_loss: 12.7755 - val_mae: 13.2685\n",
            "Epoch 12/100\n",
            "31/31 [==============================] - 0s 12ms/step - loss: 6.5301 - mae: 7.0063 - val_loss: 11.5922 - val_mae: 12.0867\n",
            "Epoch 13/100\n",
            "31/31 [==============================] - 0s 12ms/step - loss: 6.4309 - mae: 6.9112 - val_loss: 11.1010 - val_mae: 11.5939\n",
            "Epoch 14/100\n",
            "31/31 [==============================] - 0s 12ms/step - loss: 6.2889 - mae: 6.7621 - val_loss: 11.2625 - val_mae: 11.7523\n",
            "Epoch 15/100\n",
            "31/31 [==============================] - 0s 12ms/step - loss: 6.2523 - mae: 6.7322 - val_loss: 10.7976 - val_mae: 11.2901\n",
            "Epoch 16/100\n",
            "31/31 [==============================] - 0s 12ms/step - loss: 6.1349 - mae: 6.6110 - val_loss: 9.6021 - val_mae: 10.0914\n",
            "Epoch 17/100\n",
            "31/31 [==============================] - 0s 12ms/step - loss: 5.9727 - mae: 6.4494 - val_loss: 9.7497 - val_mae: 10.2399\n",
            "Epoch 18/100\n",
            "31/31 [==============================] - 0s 12ms/step - loss: 5.7956 - mae: 6.2756 - val_loss: 9.0991 - val_mae: 9.5843\n",
            "Epoch 19/100\n",
            "31/31 [==============================] - 0s 12ms/step - loss: 5.7741 - mae: 6.2540 - val_loss: 9.6433 - val_mae: 10.1316\n",
            "Epoch 20/100\n",
            "31/31 [==============================] - 0s 12ms/step - loss: 5.7659 - mae: 6.2461 - val_loss: 9.5171 - val_mae: 10.0039\n",
            "Epoch 21/100\n",
            "31/31 [==============================] - 0s 12ms/step - loss: 5.7199 - mae: 6.1978 - val_loss: 8.9442 - val_mae: 9.4281\n",
            "Epoch 22/100\n",
            "31/31 [==============================] - 0s 12ms/step - loss: 5.6421 - mae: 6.1225 - val_loss: 9.0242 - val_mae: 9.5090\n",
            "Epoch 23/100\n",
            "31/31 [==============================] - 0s 12ms/step - loss: 5.5336 - mae: 6.0106 - val_loss: 9.0031 - val_mae: 9.4874\n",
            "Epoch 24/100\n",
            "31/31 [==============================] - 0s 12ms/step - loss: 5.5688 - mae: 6.0478 - val_loss: 7.8526 - val_mae: 8.3366\n",
            "Epoch 25/100\n",
            "31/31 [==============================] - 0s 12ms/step - loss: 5.6305 - mae: 6.1095 - val_loss: 9.0882 - val_mae: 9.5703\n",
            "Epoch 26/100\n",
            "31/31 [==============================] - 0s 12ms/step - loss: 5.4242 - mae: 5.9035 - val_loss: 8.8664 - val_mae: 9.3476\n",
            "Epoch 27/100\n",
            "31/31 [==============================] - 0s 12ms/step - loss: 5.3579 - mae: 5.8368 - val_loss: 8.2316 - val_mae: 8.7151\n",
            "Epoch 28/100\n",
            "31/31 [==============================] - 0s 12ms/step - loss: 5.4256 - mae: 5.9076 - val_loss: 8.7553 - val_mae: 9.2395\n",
            "Epoch 29/100\n",
            "31/31 [==============================] - 0s 12ms/step - loss: 5.3729 - mae: 5.8486 - val_loss: 7.9763 - val_mae: 8.4645\n",
            "Epoch 30/100\n",
            "31/31 [==============================] - 0s 12ms/step - loss: 5.3361 - mae: 5.8113 - val_loss: 9.2039 - val_mae: 9.6915\n",
            "Epoch 31/100\n",
            "31/31 [==============================] - 0s 12ms/step - loss: 5.3322 - mae: 5.8082 - val_loss: 8.0890 - val_mae: 8.5723\n",
            "Epoch 32/100\n",
            "31/31 [==============================] - 0s 12ms/step - loss: 5.2420 - mae: 5.7169 - val_loss: 8.5413 - val_mae: 9.0308\n",
            "Epoch 33/100\n",
            "31/31 [==============================] - 0s 12ms/step - loss: 5.3106 - mae: 5.7909 - val_loss: 7.8024 - val_mae: 8.2863\n",
            "Epoch 34/100\n",
            "31/31 [==============================] - 0s 12ms/step - loss: 5.1077 - mae: 5.5850 - val_loss: 7.5565 - val_mae: 8.0448\n",
            "Epoch 35/100\n",
            "31/31 [==============================] - 0s 12ms/step - loss: 5.1590 - mae: 5.6337 - val_loss: 8.7786 - val_mae: 9.2677\n",
            "Epoch 36/100\n",
            "31/31 [==============================] - 0s 12ms/step - loss: 5.0517 - mae: 5.5300 - val_loss: 7.6230 - val_mae: 8.1024\n",
            "Epoch 37/100\n",
            "31/31 [==============================] - 0s 12ms/step - loss: 5.0606 - mae: 5.5395 - val_loss: 7.1306 - val_mae: 7.6175\n",
            "Epoch 38/100\n",
            "31/31 [==============================] - 0s 12ms/step - loss: 5.0680 - mae: 5.5454 - val_loss: 6.7989 - val_mae: 7.2839\n",
            "Epoch 39/100\n",
            "31/31 [==============================] - 0s 12ms/step - loss: 5.0717 - mae: 5.5477 - val_loss: 7.1587 - val_mae: 7.6407\n",
            "Epoch 40/100\n",
            "31/31 [==============================] - 0s 12ms/step - loss: 5.0320 - mae: 5.5094 - val_loss: 7.4243 - val_mae: 7.9013\n",
            "Epoch 41/100\n",
            "31/31 [==============================] - 0s 12ms/step - loss: 4.9396 - mae: 5.4142 - val_loss: 6.9547 - val_mae: 7.4387\n",
            "Epoch 42/100\n",
            "31/31 [==============================] - 0s 12ms/step - loss: 4.9623 - mae: 5.4390 - val_loss: 6.7298 - val_mae: 7.2154\n",
            "Epoch 43/100\n",
            "31/31 [==============================] - 0s 13ms/step - loss: 4.9494 - mae: 5.4288 - val_loss: 7.3481 - val_mae: 7.8291\n",
            "Epoch 44/100\n",
            "31/31 [==============================] - 0s 12ms/step - loss: 4.8714 - mae: 5.3461 - val_loss: 7.3215 - val_mae: 7.8011\n",
            "Epoch 45/100\n",
            "31/31 [==============================] - 0s 12ms/step - loss: 4.9247 - mae: 5.3996 - val_loss: 6.6265 - val_mae: 7.1146\n",
            "Epoch 46/100\n",
            "31/31 [==============================] - 0s 12ms/step - loss: 4.9339 - mae: 5.4098 - val_loss: 7.2076 - val_mae: 7.6876\n",
            "Epoch 47/100\n",
            "31/31 [==============================] - 0s 12ms/step - loss: 4.9412 - mae: 5.4173 - val_loss: 7.0068 - val_mae: 7.4869\n",
            "Epoch 48/100\n",
            "31/31 [==============================] - 0s 12ms/step - loss: 4.9390 - mae: 5.4126 - val_loss: 7.5552 - val_mae: 8.0407\n",
            "Epoch 49/100\n",
            "31/31 [==============================] - 0s 12ms/step - loss: 4.9873 - mae: 5.4644 - val_loss: 6.9632 - val_mae: 7.4434\n",
            "Epoch 50/100\n",
            "31/31 [==============================] - 0s 12ms/step - loss: 4.8930 - mae: 5.3670 - val_loss: 6.8883 - val_mae: 7.3672\n",
            "Epoch 51/100\n",
            "31/31 [==============================] - 0s 13ms/step - loss: 4.7614 - mae: 5.2338 - val_loss: 6.7354 - val_mae: 7.2152\n",
            "Epoch 52/100\n",
            "31/31 [==============================] - 0s 12ms/step - loss: 4.8200 - mae: 5.3009 - val_loss: 6.9698 - val_mae: 7.4514\n",
            "Epoch 53/100\n",
            "31/31 [==============================] - 0s 12ms/step - loss: 4.9685 - mae: 5.4411 - val_loss: 6.3275 - val_mae: 6.8084\n",
            "Epoch 54/100\n",
            "31/31 [==============================] - 0s 13ms/step - loss: 4.9236 - mae: 5.3989 - val_loss: 7.0406 - val_mae: 7.5220\n",
            "Epoch 55/100\n",
            "31/31 [==============================] - 0s 12ms/step - loss: 4.6990 - mae: 5.1744 - val_loss: 6.4492 - val_mae: 6.9351\n",
            "Epoch 56/100\n",
            "31/31 [==============================] - 0s 12ms/step - loss: 4.7397 - mae: 5.2155 - val_loss: 6.4236 - val_mae: 6.9083\n",
            "Epoch 57/100\n",
            "31/31 [==============================] - 0s 12ms/step - loss: 4.7304 - mae: 5.2069 - val_loss: 6.6962 - val_mae: 7.1740\n",
            "Epoch 58/100\n",
            "31/31 [==============================] - 0s 13ms/step - loss: 4.7883 - mae: 5.2694 - val_loss: 6.0338 - val_mae: 6.5166\n",
            "Epoch 59/100\n",
            "31/31 [==============================] - 0s 12ms/step - loss: 4.8165 - mae: 5.2881 - val_loss: 7.5928 - val_mae: 8.0784\n",
            "Epoch 60/100\n",
            "31/31 [==============================] - 1s 13ms/step - loss: 4.6628 - mae: 5.1357 - val_loss: 6.5516 - val_mae: 7.0324\n",
            "Epoch 61/100\n",
            "31/31 [==============================] - 0s 13ms/step - loss: 4.7925 - mae: 5.2729 - val_loss: 6.6522 - val_mae: 7.1317\n",
            "Epoch 62/100\n",
            "31/31 [==============================] - 0s 12ms/step - loss: 4.7175 - mae: 5.1942 - val_loss: 6.3186 - val_mae: 6.7980\n",
            "Epoch 63/100\n",
            "31/31 [==============================] - 0s 12ms/step - loss: 4.6810 - mae: 5.1544 - val_loss: 6.5293 - val_mae: 7.0094\n",
            "Epoch 64/100\n",
            "31/31 [==============================] - 0s 12ms/step - loss: 4.8125 - mae: 5.2860 - val_loss: 6.7449 - val_mae: 7.2229\n",
            "Epoch 65/100\n",
            "31/31 [==============================] - 0s 12ms/step - loss: 4.7095 - mae: 5.1840 - val_loss: 7.7463 - val_mae: 8.2365\n",
            "Epoch 66/100\n",
            "31/31 [==============================] - 0s 13ms/step - loss: 4.6906 - mae: 5.1663 - val_loss: 7.6563 - val_mae: 8.1438\n",
            "Epoch 67/100\n",
            "31/31 [==============================] - 0s 12ms/step - loss: 4.9052 - mae: 5.3850 - val_loss: 6.6855 - val_mae: 7.1630\n",
            "Epoch 68/100\n",
            "31/31 [==============================] - 0s 13ms/step - loss: 4.7302 - mae: 5.2050 - val_loss: 6.5355 - val_mae: 7.0163\n",
            "Epoch 69/100\n",
            "31/31 [==============================] - 0s 12ms/step - loss: 4.6739 - mae: 5.1513 - val_loss: 6.4007 - val_mae: 6.8835\n",
            "Epoch 70/100\n",
            "31/31 [==============================] - 0s 12ms/step - loss: 4.7109 - mae: 5.1867 - val_loss: 6.4205 - val_mae: 6.9025\n",
            "Epoch 71/100\n",
            "31/31 [==============================] - 0s 12ms/step - loss: 4.6923 - mae: 5.1682 - val_loss: 6.3840 - val_mae: 6.8650\n",
            "Epoch 72/100\n",
            "31/31 [==============================] - 0s 12ms/step - loss: 4.7204 - mae: 5.1961 - val_loss: 7.0417 - val_mae: 7.5247\n",
            "Epoch 73/100\n",
            "31/31 [==============================] - 0s 12ms/step - loss: 4.7094 - mae: 5.1871 - val_loss: 7.9020 - val_mae: 8.3908\n",
            "Epoch 74/100\n",
            "31/31 [==============================] - 0s 13ms/step - loss: 4.6573 - mae: 5.1344 - val_loss: 5.9465 - val_mae: 6.4306\n",
            "Epoch 75/100\n",
            "31/31 [==============================] - 0s 12ms/step - loss: 4.7117 - mae: 5.1893 - val_loss: 8.8002 - val_mae: 9.2920\n",
            "Epoch 76/100\n",
            "31/31 [==============================] - 1s 16ms/step - loss: 4.6616 - mae: 5.1392 - val_loss: 6.6999 - val_mae: 7.1807\n",
            "Epoch 77/100\n",
            "31/31 [==============================] - 1s 21ms/step - loss: 4.6905 - mae: 5.1690 - val_loss: 7.2866 - val_mae: 7.7699\n",
            "Epoch 78/100\n",
            "31/31 [==============================] - 1s 21ms/step - loss: 4.7754 - mae: 5.2499 - val_loss: 5.7829 - val_mae: 6.2640\n",
            "Epoch 79/100\n",
            "31/31 [==============================] - 1s 25ms/step - loss: 4.6674 - mae: 5.1443 - val_loss: 8.0967 - val_mae: 8.5859\n",
            "Epoch 80/100\n",
            "31/31 [==============================] - 1s 28ms/step - loss: 4.6309 - mae: 5.1065 - val_loss: 5.8316 - val_mae: 6.3083\n",
            "Epoch 81/100\n",
            "31/31 [==============================] - 1s 25ms/step - loss: 5.1249 - mae: 5.6070 - val_loss: 6.0956 - val_mae: 6.5780\n",
            "Epoch 82/100\n",
            "31/31 [==============================] - 1s 22ms/step - loss: 4.6441 - mae: 5.1197 - val_loss: 5.8617 - val_mae: 6.3412\n",
            "Epoch 83/100\n",
            "31/31 [==============================] - 1s 24ms/step - loss: 4.6749 - mae: 5.1516 - val_loss: 6.9243 - val_mae: 7.4068\n",
            "Epoch 84/100\n",
            "31/31 [==============================] - 1s 24ms/step - loss: 4.7492 - mae: 5.2260 - val_loss: 6.0487 - val_mae: 6.5350\n",
            "Epoch 85/100\n",
            "31/31 [==============================] - 1s 27ms/step - loss: 4.5731 - mae: 5.0525 - val_loss: 6.8059 - val_mae: 7.2878\n",
            "Epoch 86/100\n",
            "31/31 [==============================] - 0s 13ms/step - loss: 4.6568 - mae: 5.1310 - val_loss: 6.0921 - val_mae: 6.5734\n",
            "Epoch 87/100\n",
            "31/31 [==============================] - 0s 13ms/step - loss: 4.6422 - mae: 5.1194 - val_loss: 6.0585 - val_mae: 6.5424\n",
            "Epoch 88/100\n",
            "31/31 [==============================] - 0s 13ms/step - loss: 4.6048 - mae: 5.0794 - val_loss: 6.3237 - val_mae: 6.8028\n",
            "Epoch 89/100\n",
            "31/31 [==============================] - 0s 12ms/step - loss: 4.6066 - mae: 5.0828 - val_loss: 7.7762 - val_mae: 8.2636\n",
            "Epoch 90/100\n",
            "31/31 [==============================] - 0s 12ms/step - loss: 4.8549 - mae: 5.3344 - val_loss: 6.0993 - val_mae: 6.5789\n",
            "Epoch 91/100\n",
            "31/31 [==============================] - 0s 12ms/step - loss: 4.5930 - mae: 5.0723 - val_loss: 6.3310 - val_mae: 6.8099\n",
            "Epoch 92/100\n",
            "31/31 [==============================] - 0s 13ms/step - loss: 4.5362 - mae: 5.0130 - val_loss: 5.9489 - val_mae: 6.4347\n",
            "Epoch 93/100\n",
            "31/31 [==============================] - 0s 13ms/step - loss: 4.5680 - mae: 5.0435 - val_loss: 5.8319 - val_mae: 6.3171\n",
            "Epoch 94/100\n",
            "31/31 [==============================] - 0s 13ms/step - loss: 4.6561 - mae: 5.1324 - val_loss: 7.0219 - val_mae: 7.5056\n",
            "Epoch 95/100\n",
            "31/31 [==============================] - 0s 12ms/step - loss: 4.7750 - mae: 5.2562 - val_loss: 6.4808 - val_mae: 6.9584\n",
            "Epoch 96/100\n",
            "31/31 [==============================] - 1s 13ms/step - loss: 4.5762 - mae: 5.0548 - val_loss: 6.1369 - val_mae: 6.6213\n",
            "Epoch 97/100\n",
            "31/31 [==============================] - 0s 12ms/step - loss: 4.6308 - mae: 5.1096 - val_loss: 6.5177 - val_mae: 6.9966\n",
            "Epoch 98/100\n",
            "31/31 [==============================] - 0s 12ms/step - loss: 4.7188 - mae: 5.2013 - val_loss: 5.6904 - val_mae: 6.1741\n",
            "Epoch 99/100\n",
            "31/31 [==============================] - 0s 12ms/step - loss: 4.6938 - mae: 5.1719 - val_loss: 5.8939 - val_mae: 6.3791\n",
            "Epoch 100/100\n",
            "31/31 [==============================] - 0s 12ms/step - loss: 4.5589 - mae: 5.0362 - val_loss: 5.8954 - val_mae: 6.3810\n"
          ]
        }
      ],
      "source": [
        "# Reset states generated by Keras\n",
        "tf.keras.backend.clear_session()\n",
        "\n",
        "# Build the model\n",
        "model = tf.keras.models.Sequential([\n",
        "  tf.keras.layers.Lambda(lambda x: tf.expand_dims(x, axis=-1),\n",
        "                      input_shape=[None]),\n",
        "   tf.keras.layers.Bidirectional(tf.keras.layers.LSTM(32, return_sequences=True)),\n",
        "  tf.keras.layers.Bidirectional(tf.keras.layers.LSTM(32)),\n",
        "  tf.keras.layers.Dense(1),\n",
        "  tf.keras.layers.Lambda(lambda x: x * 100.0)\n",
        "])\n",
        "\n",
        "# Set the learning rate\n",
        "learning_rate = 2e-6\n",
        "\n",
        "# Set the optimizer \n",
        "optimizer = tf.keras.optimizers.SGD(learning_rate=learning_rate, momentum=0.9)\n",
        "\n",
        "# Set the training parameters\n",
        "model.compile(loss=tf.keras.losses.Huber(),\n",
        "              optimizer=optimizer,\n",
        "              metrics=[\"mae\"])\n",
        "\n",
        "# Train the model\n",
        "history = model.fit(dataset,epochs=100, validation_data=val_set)"
      ]
    }
  ],
  "metadata": {
    "accelerator": "GPU",
    "colab": {
      "collapsed_sections": [],
      "name": "C4_W3_Lab_2_LSTM.ipynb",
      "provenance": []
    },
    "kernelspec": {
      "display_name": "Python 3",
      "language": "python",
      "name": "python3"
    },
    "language_info": {
      "codemirror_mode": {
        "name": "ipython",
        "version": 3
      },
      "file_extension": ".py",
      "mimetype": "text/x-python",
      "name": "python",
      "nbconvert_exporter": "python",
      "pygments_lexer": "ipython3",
      "version": "3.7.4"
    },
    "gpuClass": "standard"
  },
  "nbformat": 4,
  "nbformat_minor": 0
}